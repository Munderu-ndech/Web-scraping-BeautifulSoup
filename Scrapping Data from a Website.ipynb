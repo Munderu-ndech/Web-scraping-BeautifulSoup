{
 "cells": [
  {
   "cell_type": "code",
   "execution_count": 3,
   "id": "9ce98038",
   "metadata": {},
   "outputs": [],
   "source": [
    "from bs4 import BeautifulSoup\n",
    "import requests"
   ]
  },
  {
   "cell_type": "code",
   "execution_count": 12,
   "id": "1eed2c7a",
   "metadata": {},
   "outputs": [],
   "source": [
    "url = \"https://en.wikipedia.org/wiki/List_of_largest_companies_by_revenue\""
   ]
  },
  {
   "cell_type": "code",
   "execution_count": 211,
   "id": "fa3b51be",
   "metadata": {},
   "outputs": [],
   "source": [
    "pages = requests.get(url)\n",
    "print(pages)"
   ]
  },
  {
   "cell_type": "code",
   "execution_count": 96,
   "id": "46dab8d9",
   "metadata": {},
   "outputs": [],
   "source": [
    "soup = BeautifulSoup(pages.text,'html')"
   ]
  },
  {
   "cell_type": "code",
   "execution_count": 210,
   "id": "bbe6ec9d",
   "metadata": {},
   "outputs": [],
   "source": [
    "print(soup.prettify())"
   ]
  },
  {
   "cell_type": "markdown",
   "id": "68f2212f",
   "metadata": {},
   "source": [
    "# Extracting column details"
   ]
  },
  {
   "cell_type": "code",
   "execution_count": 212,
   "id": "dccf0afb",
   "metadata": {},
   "outputs": [],
   "source": [
    "our_table = soup.find_all('table')[0]\n",
    "print(our_table)"
   ]
  },
  {
   "cell_type": "code",
   "execution_count": 213,
   "id": "8d99e3a3",
   "metadata": {},
   "outputs": [],
   "source": [
    "col_names = our_table.find('tr')\n",
    "print(col_names)"
   ]
  },
  {
   "cell_type": "code",
   "execution_count": 214,
   "id": "9425658b",
   "metadata": {},
   "outputs": [],
   "source": [
    "col_name = col_names.find_all('th')\n",
    "print(col_name)"
   ]
  },
  {
   "cell_type": "code",
   "execution_count": 136,
   "id": "69c5c448",
   "metadata": {},
   "outputs": [
    {
     "name": "stdout",
     "output_type": "stream",
     "text": [
      "['Rank', 'Name', 'Industry', 'Revenue', 'Profit', 'Employees', 'Headquarters[note 1]', 'State-owned', 'Ref.', 'Revenue per worker']\n"
     ]
    }
   ],
   "source": [
    "column_names = [col.text.strip() for col in col_name]\n",
    "print(column_names)"
   ]
  },
  {
   "cell_type": "code",
   "execution_count": null,
   "id": "ab68d180",
   "metadata": {},
   "outputs": [],
   "source": []
  },
  {
   "cell_type": "code",
   "execution_count": null,
   "id": "8e138c70",
   "metadata": {},
   "outputs": [],
   "source": []
  },
  {
   "cell_type": "markdown",
   "id": "8bba743d",
   "metadata": {},
   "source": [
    "# setting our DataFrame"
   ]
  },
  {
   "cell_type": "code",
   "execution_count": 121,
   "id": "b0016d40",
   "metadata": {},
   "outputs": [],
   "source": [
    "import pandas as pd"
   ]
  },
  {
   "cell_type": "code",
   "execution_count": 203,
   "id": "ce88f843",
   "metadata": {},
   "outputs": [
    {
     "data": {
      "text/html": [
       "<div>\n",
       "<style scoped>\n",
       "    .dataframe tbody tr th:only-of-type {\n",
       "        vertical-align: middle;\n",
       "    }\n",
       "\n",
       "    .dataframe tbody tr th {\n",
       "        vertical-align: top;\n",
       "    }\n",
       "\n",
       "    .dataframe thead th {\n",
       "        text-align: right;\n",
       "    }\n",
       "</style>\n",
       "<table border=\"1\" class=\"dataframe\">\n",
       "  <thead>\n",
       "    <tr style=\"text-align: right;\">\n",
       "      <th></th>\n",
       "      <th>Rank</th>\n",
       "      <th>Name</th>\n",
       "      <th>Industry</th>\n",
       "      <th>Revenue</th>\n",
       "      <th>Profit</th>\n",
       "      <th>Employees</th>\n",
       "      <th>Headquarters[note 1]</th>\n",
       "      <th>State-owned</th>\n",
       "      <th>Ref.</th>\n",
       "      <th>Revenue per worker</th>\n",
       "    </tr>\n",
       "  </thead>\n",
       "  <tbody>\n",
       "  </tbody>\n",
       "</table>\n",
       "</div>"
      ],
      "text/plain": [
       "Empty DataFrame\n",
       "Columns: [Rank, Name, Industry, Revenue, Profit, Employees, Headquarters[note 1], State-owned, Ref., Revenue per worker]\n",
       "Index: []"
      ]
     },
     "execution_count": 203,
     "metadata": {},
     "output_type": "execute_result"
    }
   ],
   "source": [
    "df = pd.DataFrame(columns = column_names)\n",
    "df"
   ]
  },
  {
   "cell_type": "markdown",
   "id": "454d7f57",
   "metadata": {},
   "source": [
    "# Scraping for Data to fill our df.columns()"
   ]
  },
  {
   "cell_type": "code",
   "execution_count": 204,
   "id": "2d02287f",
   "metadata": {},
   "outputs": [
    {
     "data": {
      "text/html": [
       "<div>\n",
       "<style scoped>\n",
       "    .dataframe tbody tr th:only-of-type {\n",
       "        vertical-align: middle;\n",
       "    }\n",
       "\n",
       "    .dataframe tbody tr th {\n",
       "        vertical-align: top;\n",
       "    }\n",
       "\n",
       "    .dataframe thead th {\n",
       "        text-align: right;\n",
       "    }\n",
       "</style>\n",
       "<table border=\"1\" class=\"dataframe\">\n",
       "  <thead>\n",
       "    <tr style=\"text-align: right;\">\n",
       "      <th></th>\n",
       "      <th>Name</th>\n",
       "      <th>Industry</th>\n",
       "      <th>Revenue</th>\n",
       "      <th>Profit</th>\n",
       "      <th>Employees</th>\n",
       "      <th>Headquarters[note 1]</th>\n",
       "      <th>State-owned</th>\n",
       "      <th>Ref.</th>\n",
       "      <th>Revenue per worker</th>\n",
       "    </tr>\n",
       "  </thead>\n",
       "  <tbody>\n",
       "  </tbody>\n",
       "</table>\n",
       "</div>"
      ],
      "text/plain": [
       "Empty DataFrame\n",
       "Columns: [Name, Industry, Revenue, Profit, Employees, Headquarters[note 1], State-owned, Ref., Revenue per worker]\n",
       "Index: []"
      ]
     },
     "execution_count": 204,
     "metadata": {},
     "output_type": "execute_result"
    }
   ],
   "source": [
    "df.drop('Rank', axis= 1, inplace= True)  #will add Rank later as it has diff input\n",
    "df"
   ]
  },
  {
   "cell_type": "code",
   "execution_count": 215,
   "id": "92d8d8be",
   "metadata": {},
   "outputs": [],
   "source": [
    "our_data = our_table.find_all('tr')[2:]\n",
    "print(our_data)"
   ]
  },
  {
   "cell_type": "code",
   "execution_count": 205,
   "id": "d94ea703",
   "metadata": {},
   "outputs": [],
   "source": [
    "for trs in our_data:\n",
    "    raw_data = trs.find_all('td')\n",
    "    data_names = [tds.text.strip() for tds in raw_data]\n",
    "    length= len(df)\n",
    "    df.loc[length] = data_names"
   ]
  },
  {
   "cell_type": "code",
   "execution_count": 206,
   "id": "bed22b89",
   "metadata": {},
   "outputs": [
    {
     "data": {
      "text/plain": [
       "(50, 9)"
      ]
     },
     "execution_count": 206,
     "metadata": {},
     "output_type": "execute_result"
    }
   ],
   "source": [
    "df.shape"
   ]
  },
  {
   "cell_type": "code",
   "execution_count": 190,
   "id": "13fb86d3",
   "metadata": {},
   "outputs": [],
   "source": [
    "# Getting the Ranks"
   ]
  },
  {
   "cell_type": "code",
   "execution_count": 216,
   "id": "f63e6f88",
   "metadata": {},
   "outputs": [],
   "source": [
    "rank_data = our_table.find_all('th')[11:]\n",
    "print(rank_data)"
   ]
  },
  {
   "cell_type": "code",
   "execution_count": 197,
   "id": "bb0fabf5",
   "metadata": {},
   "outputs": [
    {
     "name": "stdout",
     "output_type": "stream",
     "text": [
      "['1', '2', '3', '4', '5', '6', '7', '8', '9', '10', '11', '12', '13', '14', '15', '16', '17', '18', '19', '20', '21', '22', '23', '24', '25', '26', '27', '28', '29', '30', '31', '32', '33', '34', '35', '36', '37', '38', '39', '40', '41', '42', '43', '44', '45', '46', '47', '48', '49', '50']\n"
     ]
    }
   ],
   "source": [
    "data_list = [dat.text.strip() for dat in rank_data]\n",
    "print(data_list)"
   ]
  },
  {
   "cell_type": "code",
   "execution_count": 217,
   "id": "c8cf0a2e",
   "metadata": {},
   "outputs": [
    {
     "data": {
      "text/html": [
       "<div>\n",
       "<style scoped>\n",
       "    .dataframe tbody tr th:only-of-type {\n",
       "        vertical-align: middle;\n",
       "    }\n",
       "\n",
       "    .dataframe tbody tr th {\n",
       "        vertical-align: top;\n",
       "    }\n",
       "\n",
       "    .dataframe thead th {\n",
       "        text-align: right;\n",
       "    }\n",
       "</style>\n",
       "<table border=\"1\" class=\"dataframe\">\n",
       "  <thead>\n",
       "    <tr style=\"text-align: right;\">\n",
       "      <th></th>\n",
       "      <th>Rank</th>\n",
       "      <th>Name</th>\n",
       "      <th>Industry</th>\n",
       "      <th>Revenue</th>\n",
       "      <th>Profit</th>\n",
       "      <th>Employees</th>\n",
       "      <th>Headquarters[note 1]</th>\n",
       "      <th>State-owned</th>\n",
       "      <th>Ref.</th>\n",
       "      <th>Revenue per worker</th>\n",
       "    </tr>\n",
       "  </thead>\n",
       "  <tbody>\n",
       "    <tr>\n",
       "      <th>0</th>\n",
       "      <td>1</td>\n",
       "      <td>Walmart</td>\n",
       "      <td>Retail</td>\n",
       "      <td>$611,289</td>\n",
       "      <td>$11,680</td>\n",
       "      <td>2,100,000</td>\n",
       "      <td>United States</td>\n",
       "      <td></td>\n",
       "      <td>[1]</td>\n",
       "      <td>$291,090.00</td>\n",
       "    </tr>\n",
       "    <tr>\n",
       "      <th>1</th>\n",
       "      <td>2</td>\n",
       "      <td>Saudi Aramco</td>\n",
       "      <td>Oil and gas</td>\n",
       "      <td>$603,651</td>\n",
       "      <td>$159,069</td>\n",
       "      <td>70,496</td>\n",
       "      <td>Saudi Arabia</td>\n",
       "      <td></td>\n",
       "      <td>[4]</td>\n",
       "      <td>$8,562,911.37</td>\n",
       "    </tr>\n",
       "    <tr>\n",
       "      <th>2</th>\n",
       "      <td>3</td>\n",
       "      <td>Amazon</td>\n",
       "      <td>Retail</td>\n",
       "      <td>$574,785</td>\n",
       "      <td>$30,425</td>\n",
       "      <td>1,525,000</td>\n",
       "      <td>United States</td>\n",
       "      <td></td>\n",
       "      <td>[5]</td>\n",
       "      <td>$376,908</td>\n",
       "    </tr>\n",
       "    <tr>\n",
       "      <th>3</th>\n",
       "      <td>4</td>\n",
       "      <td>State Grid Corporation of China</td>\n",
       "      <td>Electricity</td>\n",
       "      <td>$530,009</td>\n",
       "      <td>$8,192</td>\n",
       "      <td>870,287</td>\n",
       "      <td>China</td>\n",
       "      <td></td>\n",
       "      <td>[6]</td>\n",
       "      <td>$609,004.85</td>\n",
       "    </tr>\n",
       "    <tr>\n",
       "      <th>4</th>\n",
       "      <td>5</td>\n",
       "      <td>Vitol</td>\n",
       "      <td>Commodities</td>\n",
       "      <td>$505,000</td>\n",
       "      <td>$15,000</td>\n",
       "      <td>1,560</td>\n",
       "      <td>Switzerland</td>\n",
       "      <td></td>\n",
       "      <td>[7][8]</td>\n",
       "      <td>$323,717,948.72</td>\n",
       "    </tr>\n",
       "  </tbody>\n",
       "</table>\n",
       "</div>"
      ],
      "text/plain": [
       "  Rank                             Name     Industry   Revenue    Profit  \\\n",
       "0    1                          Walmart       Retail  $611,289   $11,680   \n",
       "1    2                     Saudi Aramco  Oil and gas  $603,651  $159,069   \n",
       "2    3                           Amazon       Retail  $574,785   $30,425   \n",
       "3    4  State Grid Corporation of China  Electricity  $530,009    $8,192   \n",
       "4    5                            Vitol  Commodities  $505,000   $15,000   \n",
       "\n",
       "   Employees Headquarters[note 1] State-owned    Ref. Revenue per worker  \n",
       "0  2,100,000        United States                 [1]        $291,090.00  \n",
       "1     70,496         Saudi Arabia                 [4]      $8,562,911.37  \n",
       "2  1,525,000        United States                 [5]           $376,908  \n",
       "3    870,287                China                 [6]        $609,004.85  \n",
       "4      1,560          Switzerland              [7][8]    $323,717,948.72  "
      ]
     },
     "execution_count": 217,
     "metadata": {},
     "output_type": "execute_result"
    }
   ],
   "source": [
    "df.insert(0, 'Rank', data_list)\n",
    "df.head()"
   ]
  },
  {
   "cell_type": "markdown",
   "id": "25ccb0db",
   "metadata": {},
   "source": [
    "# Exporting our scrapped data as a .csv file"
   ]
  },
  {
   "cell_type": "code",
   "execution_count": 209,
   "id": "762b1441",
   "metadata": {},
   "outputs": [],
   "source": [
    "df.to_csv('scrapped DataFrame.csv', index= False)"
   ]
  },
  {
   "cell_type": "code",
   "execution_count": null,
   "id": "8f94addf",
   "metadata": {},
   "outputs": [],
   "source": []
  }
 ],
 "metadata": {
  "kernelspec": {
   "display_name": "Python 3 (ipykernel)",
   "language": "python",
   "name": "python3"
  },
  "language_info": {
   "codemirror_mode": {
    "name": "ipython",
    "version": 3
   },
   "file_extension": ".py",
   "mimetype": "text/x-python",
   "name": "python",
   "nbconvert_exporter": "python",
   "pygments_lexer": "ipython3",
   "version": "3.11.5"
  }
 },
 "nbformat": 4,
 "nbformat_minor": 5
}
